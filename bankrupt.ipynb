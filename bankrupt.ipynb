{
  "nbformat": 4,
  "nbformat_minor": 0,
  "metadata": {
    "colab": {
      "name": "bankrupt.ipynb",
      "provenance": [],
      "collapsed_sections": [],
      "include_colab_link": true
    },
    "kernelspec": {
      "display_name": "Python 3",
      "name": "python3"
    },
    "language_info": {
      "name": "python"
    }
  },
  "cells": [
    {
      "cell_type": "markdown",
      "metadata": {
        "id": "view-in-github",
        "colab_type": "text"
      },
      "source": [
        "<a href=\"https://colab.research.google.com/github/Scottilano/ISTM-660/blob/main/bankrupt.ipynb\" target=\"_parent\"><img src=\"https://colab.research.google.com/assets/colab-badge.svg\" alt=\"Open In Colab\"/></a>"
      ]
    },
    {
      "cell_type": "code",
      "metadata": {
        "id": "doOYfB6guHBO"
      },
      "source": [
        "#some libraries\n",
        "#import pandas:\n",
        "import pandas as pd\n",
        "#import numpy:\n",
        "import numpy as np\n",
        "#matplotlib\n",
        "import matplotlib.pyplot as plt\n",
        "%matplotlib inline\n",
        "\n",
        "#several others\n",
        "import scipy\n",
        "import sklearn\n",
        "import graphviz"
      ],
      "execution_count": 1,
      "outputs": []
    },
    {
      "cell_type": "code",
      "metadata": {
        "colab": {
          "resources": {
            "http://localhost:8080/nbextensions/google.colab/files.js": {
              "data": "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",
              "ok": true,
              "headers": [
                [
                  "content-type",
                  "application/javascript"
                ]
              ],
              "status": 200,
              "status_text": ""
            }
          },
          "base_uri": "https://localhost:8080/",
          "height": 110
        },
        "id": "Mtp1Jg7rUPqW",
        "outputId": "bd1218b1-a04f-475c-a7cc-cebb82876836"
      },
      "source": [
        "#Upload files via google colab (not a typical import process for Python)\n",
        "from google.colab import files\n",
        "files.upload()"
      ],
      "execution_count": 4,
      "outputs": [
        {
          "output_type": "display_data",
          "data": {
            "text/html": [
              "\n",
              "     <input type=\"file\" id=\"files-2199376b-98a6-4d1c-b7cb-4edb9bb5ad5b\" name=\"files[]\" multiple disabled\n",
              "        style=\"border:none\" />\n",
              "     <output id=\"result-2199376b-98a6-4d1c-b7cb-4edb9bb5ad5b\">\n",
              "      Upload widget is only available when the cell has been executed in the\n",
              "      current browser session. Please rerun this cell to enable.\n",
              "      </output>\n",
              "      <script src=\"/nbextensions/google.colab/files.js\"></script> "
            ],
            "text/plain": [
              "<IPython.core.display.HTML object>"
            ]
          },
          "metadata": {
            "tags": []
          }
        },
        {
          "output_type": "stream",
          "text": [
            "Saving Test.csv to Test.csv\n"
          ],
          "name": "stdout"
        },
        {
          "output_type": "execute_result",
          "data": {
            "text/plain": [
              "{'Test.csv': b'Firm,WC/TA,RE/TA,EBIT/TA,MVE/TD,S/TA\\r\\nA,0.1759,0.1343,0.0946,0.1955,1.9218\\r\\nB,0.3732,0.3483,-0.0013,0.3483,1.8223\\r\\nC,0.1725,0.3238,0.1040,0.8847,0.5576\\r\\nD,0.1630,0.3555,0.0110,0.3730,2.8307\\r\\nE,0.1904,0.2011,0.1329,0.5580,1.6623\\r\\nF,0.1123,0.2288,0.0100,0.1884,2.7186\\r\\nG,0.0732,0.3526,0.0587,0.2349,1.7432\\r\\nH,0.2653,0.2683,0.0235,0.5118,1.8350\\r\\nI,0.1070,0.0787,0.0433,0.1083,1.2051\\r\\nJ,0.2921,0.2390,0.0673,0.3402,0.9277'}"
            ]
          },
          "metadata": {
            "tags": []
          },
          "execution_count": 4
        }
      ]
    },
    {
      "cell_type": "code",
      "metadata": {
        "id": "eo4upalFURyP"
      },
      "source": [
        "#Python datasets\n",
        "train = pd.read_csv('/content/Training.csv');\n",
        "test = pd.read_csv('/content/Test.csv');"
      ],
      "execution_count": 5,
      "outputs": []
    },
    {
      "cell_type": "code",
      "metadata": {
        "id": "9cNzFgc9Tkt6",
        "colab": {
          "base_uri": "https://localhost:8080/",
          "height": 204
        },
        "outputId": "3677204c-1947-4794-96ac-9316d4f14081"
      },
      "source": [
        "#what's in it?\n",
        "train.head()"
      ],
      "execution_count": 6,
      "outputs": [
        {
          "output_type": "execute_result",
          "data": {
            "text/html": [
              "<div>\n",
              "<style scoped>\n",
              "    .dataframe tbody tr th:only-of-type {\n",
              "        vertical-align: middle;\n",
              "    }\n",
              "\n",
              "    .dataframe tbody tr th {\n",
              "        vertical-align: top;\n",
              "    }\n",
              "\n",
              "    .dataframe thead th {\n",
              "        text-align: right;\n",
              "    }\n",
              "</style>\n",
              "<table border=\"1\" class=\"dataframe\">\n",
              "  <thead>\n",
              "    <tr style=\"text-align: right;\">\n",
              "      <th></th>\n",
              "      <th>Firm</th>\n",
              "      <th>WC/TA</th>\n",
              "      <th>RE/TA</th>\n",
              "      <th>EBIT/TA</th>\n",
              "      <th>MVE/TD</th>\n",
              "      <th>S/TA</th>\n",
              "      <th>BR/NB</th>\n",
              "    </tr>\n",
              "  </thead>\n",
              "  <tbody>\n",
              "    <tr>\n",
              "      <th>0</th>\n",
              "      <td>1</td>\n",
              "      <td>0.1650</td>\n",
              "      <td>0.1192</td>\n",
              "      <td>0.2035</td>\n",
              "      <td>0.8130</td>\n",
              "      <td>1.6702</td>\n",
              "      <td>1</td>\n",
              "    </tr>\n",
              "    <tr>\n",
              "      <th>1</th>\n",
              "      <td>2</td>\n",
              "      <td>0.1415</td>\n",
              "      <td>0.3868</td>\n",
              "      <td>0.0681</td>\n",
              "      <td>0.5755</td>\n",
              "      <td>1.0579</td>\n",
              "      <td>1</td>\n",
              "    </tr>\n",
              "    <tr>\n",
              "      <th>2</th>\n",
              "      <td>3</td>\n",
              "      <td>0.5804</td>\n",
              "      <td>0.3331</td>\n",
              "      <td>0.0810</td>\n",
              "      <td>1.1964</td>\n",
              "      <td>1.3572</td>\n",
              "      <td>1</td>\n",
              "    </tr>\n",
              "    <tr>\n",
              "      <th>3</th>\n",
              "      <td>4</td>\n",
              "      <td>0.2304</td>\n",
              "      <td>0.2960</td>\n",
              "      <td>0.1225</td>\n",
              "      <td>0.4102</td>\n",
              "      <td>3.0809</td>\n",
              "      <td>1</td>\n",
              "    </tr>\n",
              "    <tr>\n",
              "      <th>4</th>\n",
              "      <td>5</td>\n",
              "      <td>0.3684</td>\n",
              "      <td>0.3913</td>\n",
              "      <td>0.0524</td>\n",
              "      <td>0.1658</td>\n",
              "      <td>1.1533</td>\n",
              "      <td>1</td>\n",
              "    </tr>\n",
              "  </tbody>\n",
              "</table>\n",
              "</div>"
            ],
            "text/plain": [
              "   Firm   WC/TA   RE/TA  EBIT/TA  MVE/TD    S/TA  BR/NB\n",
              "0     1  0.1650  0.1192   0.2035  0.8130  1.6702      1\n",
              "1     2  0.1415  0.3868   0.0681  0.5755  1.0579      1\n",
              "2     3  0.5804  0.3331   0.0810  1.1964  1.3572      1\n",
              "3     4  0.2304  0.2960   0.1225  0.4102  3.0809      1\n",
              "4     5  0.3684  0.3913   0.0524  0.1658  1.1533      1"
            ]
          },
          "metadata": {
            "tags": []
          },
          "execution_count": 6
        }
      ]
    },
    {
      "cell_type": "code",
      "metadata": {
        "colab": {
          "base_uri": "https://localhost:8080/",
          "height": 204
        },
        "id": "xewffnLIoqRI",
        "outputId": "699b1740-1d55-4f5b-8533-a3bcc0f5a9a8"
      },
      "source": [
        "test.head()"
      ],
      "execution_count": 7,
      "outputs": [
        {
          "output_type": "execute_result",
          "data": {
            "text/html": [
              "<div>\n",
              "<style scoped>\n",
              "    .dataframe tbody tr th:only-of-type {\n",
              "        vertical-align: middle;\n",
              "    }\n",
              "\n",
              "    .dataframe tbody tr th {\n",
              "        vertical-align: top;\n",
              "    }\n",
              "\n",
              "    .dataframe thead th {\n",
              "        text-align: right;\n",
              "    }\n",
              "</style>\n",
              "<table border=\"1\" class=\"dataframe\">\n",
              "  <thead>\n",
              "    <tr style=\"text-align: right;\">\n",
              "      <th></th>\n",
              "      <th>Firm</th>\n",
              "      <th>WC/TA</th>\n",
              "      <th>RE/TA</th>\n",
              "      <th>EBIT/TA</th>\n",
              "      <th>MVE/TD</th>\n",
              "      <th>S/TA</th>\n",
              "    </tr>\n",
              "  </thead>\n",
              "  <tbody>\n",
              "    <tr>\n",
              "      <th>0</th>\n",
              "      <td>A</td>\n",
              "      <td>0.1759</td>\n",
              "      <td>0.1343</td>\n",
              "      <td>0.0946</td>\n",
              "      <td>0.1955</td>\n",
              "      <td>1.9218</td>\n",
              "    </tr>\n",
              "    <tr>\n",
              "      <th>1</th>\n",
              "      <td>B</td>\n",
              "      <td>0.3732</td>\n",
              "      <td>0.3483</td>\n",
              "      <td>-0.0013</td>\n",
              "      <td>0.3483</td>\n",
              "      <td>1.8223</td>\n",
              "    </tr>\n",
              "    <tr>\n",
              "      <th>2</th>\n",
              "      <td>C</td>\n",
              "      <td>0.1725</td>\n",
              "      <td>0.3238</td>\n",
              "      <td>0.1040</td>\n",
              "      <td>0.8847</td>\n",
              "      <td>0.5576</td>\n",
              "    </tr>\n",
              "    <tr>\n",
              "      <th>3</th>\n",
              "      <td>D</td>\n",
              "      <td>0.1630</td>\n",
              "      <td>0.3555</td>\n",
              "      <td>0.0110</td>\n",
              "      <td>0.3730</td>\n",
              "      <td>2.8307</td>\n",
              "    </tr>\n",
              "    <tr>\n",
              "      <th>4</th>\n",
              "      <td>E</td>\n",
              "      <td>0.1904</td>\n",
              "      <td>0.2011</td>\n",
              "      <td>0.1329</td>\n",
              "      <td>0.5580</td>\n",
              "      <td>1.6623</td>\n",
              "    </tr>\n",
              "  </tbody>\n",
              "</table>\n",
              "</div>"
            ],
            "text/plain": [
              "  Firm   WC/TA   RE/TA  EBIT/TA  MVE/TD    S/TA\n",
              "0    A  0.1759  0.1343   0.0946  0.1955  1.9218\n",
              "1    B  0.3732  0.3483  -0.0013  0.3483  1.8223\n",
              "2    C  0.1725  0.3238   0.1040  0.8847  0.5576\n",
              "3    D  0.1630  0.3555   0.0110  0.3730  2.8307\n",
              "4    E  0.1904  0.2011   0.1329  0.5580  1.6623"
            ]
          },
          "metadata": {
            "tags": []
          },
          "execution_count": 7
        }
      ]
    },
    {
      "cell_type": "markdown",
      "metadata": {
        "id": "E_BzxV032ESO"
      },
      "source": [
        "# Naive Bayes"
      ]
    },
    {
      "cell_type": "code",
      "metadata": {
        "colab": {
          "base_uri": "https://localhost:8080/"
        },
        "id": "wT1D_AzErOH3",
        "outputId": "fc2a3535-0fc8-4e44-d70f-144308ba2e1c"
      },
      "source": [
        "#Naive Bayes\n",
        "from sklearn.naive_bayes import GaussianNB\n",
        "\n",
        "#Create a Gaussian Classifier\n",
        "model = GaussianNB()\n",
        "\n",
        "#Train the model using the training set\n",
        "features = train[['WC/TA','RE/TA','EBIT/TA','MVE/TD','S/TA']]\n",
        "label = train[['BR/NB']]\n",
        "\n",
        "nb = model.fit(features,label)"
      ],
      "execution_count": 8,
      "outputs": [
        {
          "output_type": "stream",
          "text": [
            "/usr/local/lib/python3.7/dist-packages/sklearn/naive_bayes.py:206: DataConversionWarning: A column-vector y was passed when a 1d array was expected. Please change the shape of y to (n_samples, ), for example using ravel().\n",
            "  y = column_or_1d(y, warn=True)\n"
          ],
          "name": "stderr"
        }
      ]
    },
    {
      "cell_type": "code",
      "metadata": {
        "id": "LNB6mM6MuH95"
      },
      "source": [
        "train['Predicted_BR/NB'] = nb.predict(features)"
      ],
      "execution_count": 9,
      "outputs": []
    },
    {
      "cell_type": "code",
      "metadata": {
        "colab": {
          "base_uri": "https://localhost:8080/"
        },
        "id": "bMdcu4YQudUk",
        "outputId": "a03e2054-657f-4e5f-e5c4-0059339d7e0c"
      },
      "source": [
        "#print the training data with predicted values\n",
        "print(train)"
      ],
      "execution_count": 10,
      "outputs": [
        {
          "output_type": "stream",
          "text": [
            "    Firm   WC/TA   RE/TA  EBIT/TA  MVE/TD    S/TA  BR/NB  Predicted_BR/NB\n",
            "0      1  0.1650  0.1192   0.2035  0.8130  1.6702      1                1\n",
            "1      2  0.1415  0.3868   0.0681  0.5755  1.0579      1                1\n",
            "2      3  0.5804  0.3331   0.0810  1.1964  1.3572      1                1\n",
            "3      4  0.2304  0.2960   0.1225  0.4102  3.0809      1                1\n",
            "4      5  0.3684  0.3913   0.0524  0.1658  1.1533      1                0\n",
            "5      6  0.1527  0.3344   0.0783  0.7736  1.5046      1                1\n",
            "6      7  0.1126  0.3071   0.0839  1.3429  1.5736      1                1\n",
            "7      8  0.0141  0.2366   0.0905  0.5863  1.4651      1                1\n",
            "8      9  0.2220  0.1797   0.1526  0.3459  1.7237      1                0\n",
            "9     10  0.2776  0.2567   0.1642  0.2968  1.8904      1                1\n",
            "10    11  0.2689  0.1729   0.0287  0.1224  0.9277      0                0\n",
            "11    12  0.2039 -0.0476   0.1263  0.8965  1.0457      0                0\n",
            "12    13  0.5056 -0.1951   0.2026  0.5380  1.9514      0                0\n",
            "13    14  0.1759  0.1343   0.0946  0.1955  1.9218      0                0\n",
            "14    15  0.3579  0.1515   0.0812  0.1991  1.4582      0                0\n",
            "15    16  0.2845  0.2038   0.0171  0.3357  1.3258      0                0\n",
            "16    17  0.1209  0.2823  -0.0113  0.3157  2.3219      0                0\n",
            "17    18  0.1254  0.1956   0.0079  0.2073  1.4890      0                0\n",
            "18    19  0.1777  0.0891   0.0695  0.1924  1.6871      0                0\n",
            "19    20  0.2409  0.1660   0.0746  0.2516  1.8524      0                0\n"
          ],
          "name": "stdout"
        }
      ]
    },
    {
      "cell_type": "code",
      "metadata": {
        "id": "F-YV1Tlhu8nS"
      },
      "source": [
        "#determine accuracy\n",
        "from sklearn.metrics import classification_report, confusion_matrix"
      ],
      "execution_count": 11,
      "outputs": []
    },
    {
      "cell_type": "code",
      "metadata": {
        "colab": {
          "base_uri": "https://localhost:8080/"
        },
        "id": "TfDIBDZ7vsf4",
        "outputId": "229b29b8-0a08-4b6f-8a54-7691b95cba5b"
      },
      "source": [
        "#confusion matrix\n",
        "cf_matrix = confusion_matrix(train['BR/NB'], train['Predicted_BR/NB'])\n",
        "print(cf_matrix)"
      ],
      "execution_count": 12,
      "outputs": [
        {
          "output_type": "stream",
          "text": [
            "[[10  0]\n",
            " [ 2  8]]\n"
          ],
          "name": "stdout"
        }
      ]
    },
    {
      "cell_type": "markdown",
      "metadata": {
        "id": "eGWuLosByBkW"
      },
      "source": [
        "**Note: The actual class values are shown as rows and predicted values are columns**"
      ]
    },
    {
      "cell_type": "code",
      "metadata": {
        "colab": {
          "base_uri": "https://localhost:8080/",
          "height": 286
        },
        "id": "PeY38FpTwHBQ",
        "outputId": "fafae368-708c-4ee0-e02e-cb48417b3e71"
      },
      "source": [
        "#pretty version\n",
        "import seaborn as sns\n",
        "sns.heatmap(cf_matrix,annot=True)"
      ],
      "execution_count": 13,
      "outputs": [
        {
          "output_type": "execute_result",
          "data": {
            "text/plain": [
              "<matplotlib.axes._subplots.AxesSubplot at 0x7f3ca8abac50>"
            ]
          },
          "metadata": {
            "tags": []
          },
          "execution_count": 13
        },
        {
          "output_type": "display_data",
          "data": {
            "image/png": "[encoded data removed]",
            "text/plain": [
              "<Figure size 432x288 with 2 Axes>"
            ]
          },
          "metadata": {
            "tags": [],
            "needs_background": "light"
          }
        }
      ]
    },
    {
      "cell_type": "code",
      "metadata": {
        "colab": {
          "base_uri": "https://localhost:8080/"
        },
        "id": "-iZxYhpzu9tu",
        "outputId": "0f622295-7165-438e-d29c-223eb94d16a4"
      },
      "source": [
        "#classification report\n",
        "print(classification_report(train['BR/NB'], train['Predicted_BR/NB']))"
      ],
      "execution_count": 14,
      "outputs": [
        {
          "output_type": "stream",
          "text": [
            "              precision    recall  f1-score   support\n",
            "\n",
            "           0       0.83      1.00      0.91        10\n",
            "           1       1.00      0.80      0.89        10\n",
            "\n",
            "    accuracy                           0.90        20\n",
            "   macro avg       0.92      0.90      0.90        20\n",
            "weighted avg       0.92      0.90      0.90        20\n",
            "\n"
          ],
          "name": "stdout"
        }
      ]
    },
    {
      "cell_type": "code",
      "metadata": {
        "id": "B9AgaYlB0fqg"
      },
      "source": [
        "#predicted value for test\n",
        "test['NB_Predicted_BR/NB'] = nb.predict(test[['WC/TA','RE/TA','EBIT/TA','MVE/TD','S/TA']])"
      ],
      "execution_count": 15,
      "outputs": []
    },
    {
      "cell_type": "code",
      "metadata": {
        "colab": {
          "base_uri": "https://localhost:8080/"
        },
        "id": "HMF5c6N01w2U",
        "outputId": "6e5f34f2-d209-4c67-8deb-0fe35a4da810"
      },
      "source": [
        "#test predictions\n",
        "print(test)"
      ],
      "execution_count": 16,
      "outputs": [
        {
          "output_type": "stream",
          "text": [
            "  Firm   WC/TA   RE/TA  EBIT/TA  MVE/TD    S/TA  NB_Predicted_BR/NB\n",
            "0    A  0.1759  0.1343   0.0946  0.1955  1.9218                   0\n",
            "1    B  0.3732  0.3483  -0.0013  0.3483  1.8223                   0\n",
            "2    C  0.1725  0.3238   0.1040  0.8847  0.5576                   1\n",
            "3    D  0.1630  0.3555   0.0110  0.3730  2.8307                   1\n",
            "4    E  0.1904  0.2011   0.1329  0.5580  1.6623                   1\n",
            "5    F  0.1123  0.2288   0.0100  0.1884  2.7186                   0\n",
            "6    G  0.0732  0.3526   0.0587  0.2349  1.7432                   1\n",
            "7    H  0.2653  0.2683   0.0235  0.5118  1.8350                   0\n",
            "8    I  0.1070  0.0787   0.0433  0.1083  1.2051                   0\n",
            "9    J  0.2921  0.2390   0.0673  0.3402  0.9277                   0\n"
          ],
          "name": "stdout"
        }
      ]
    },
    {
      "cell_type": "markdown",
      "metadata": {
        "id": "PqxYyCIJ13iJ"
      },
      "source": [
        "# knn"
      ]
    },
    {
      "cell_type": "code",
      "metadata": {
        "colab": {
          "base_uri": "https://localhost:8080/"
        },
        "id": "DbKQwQqA13FR",
        "outputId": "afc246a3-8f38-4c95-8b2a-23b993a11dd4"
      },
      "source": [
        "#independent variables\n",
        "X = train.drop([\"BR/NB\",\"Firm\",\"Predicted_BR/NB\"], axis=1)\n",
        "#X = X.values\n",
        "#dependent\n",
        "y = train[\"BR/NB\"]\n",
        "#y = y.values\n",
        "print(X)"
      ],
      "execution_count": 17,
      "outputs": [
        {
          "output_type": "stream",
          "text": [
            "     WC/TA   RE/TA  EBIT/TA  MVE/TD    S/TA\n",
            "0   0.1650  0.1192   0.2035  0.8130  1.6702\n",
            "1   0.1415  0.3868   0.0681  0.5755  1.0579\n",
            "2   0.5804  0.3331   0.0810  1.1964  1.3572\n",
            "3   0.2304  0.2960   0.1225  0.4102  3.0809\n",
            "4   0.3684  0.3913   0.0524  0.1658  1.1533\n",
            "5   0.1527  0.3344   0.0783  0.7736  1.5046\n",
            "6   0.1126  0.3071   0.0839  1.3429  1.5736\n",
            "7   0.0141  0.2366   0.0905  0.5863  1.4651\n",
            "8   0.2220  0.1797   0.1526  0.3459  1.7237\n",
            "9   0.2776  0.2567   0.1642  0.2968  1.8904\n",
            "10  0.2689  0.1729   0.0287  0.1224  0.9277\n",
            "11  0.2039 -0.0476   0.1263  0.8965  1.0457\n",
            "12  0.5056 -0.1951   0.2026  0.5380  1.9514\n",
            "13  0.1759  0.1343   0.0946  0.1955  1.9218\n",
            "14  0.3579  0.1515   0.0812  0.1991  1.4582\n",
            "15  0.2845  0.2038   0.0171  0.3357  1.3258\n",
            "16  0.1209  0.2823  -0.0113  0.3157  2.3219\n",
            "17  0.1254  0.1956   0.0079  0.2073  1.4890\n",
            "18  0.1777  0.0891   0.0695  0.1924  1.6871\n",
            "19  0.2409  0.1660   0.0746  0.2516  1.8524\n"
          ],
          "name": "stdout"
        }
      ]
    },
    {
      "cell_type": "code",
      "metadata": {
        "id": "Hc8mZQIC3oXp"
      },
      "source": [
        "from sklearn.neighbors import KNeighborsClassifier\n",
        "#using n = 3\n",
        "knn_model = KNeighborsClassifier(n_neighbors=3)"
      ],
      "execution_count": 18,
      "outputs": []
    },
    {
      "cell_type": "code",
      "metadata": {
        "id": "N2L97ptc4JZM"
      },
      "source": [
        "knn = knn_model.fit(X, y)"
      ],
      "execution_count": 19,
      "outputs": []
    },
    {
      "cell_type": "code",
      "metadata": {
        "id": "WyYK64OG4rGd"
      },
      "source": [
        "test['knn_Predicted_BR/NB'] = knn.predict(test[['WC/TA','RE/TA','EBIT/TA','MVE/TD','S/TA']])"
      ],
      "execution_count": 20,
      "outputs": []
    },
    {
      "cell_type": "code",
      "metadata": {
        "colab": {
          "base_uri": "https://localhost:8080/"
        },
        "id": "u_CrvuzQ47zo",
        "outputId": "a2763a3f-39b6-4fe3-d77f-2ada711360be"
      },
      "source": [
        "print(test)"
      ],
      "execution_count": 21,
      "outputs": [
        {
          "output_type": "stream",
          "text": [
            "  Firm   WC/TA   RE/TA  ...    S/TA  NB_Predicted_BR/NB  knn_Predicted_BR/NB\n",
            "0    A  0.1759  0.1343  ...  1.9218                   0                    0\n",
            "1    B  0.3732  0.3483  ...  1.8223                   0                    1\n",
            "2    C  0.1725  0.3238  ...  0.5576                   1                    0\n",
            "3    D  0.1630  0.3555  ...  2.8307                   1                    0\n",
            "4    E  0.1904  0.2011  ...  1.6623                   1                    1\n",
            "5    F  0.1123  0.2288  ...  2.7186                   0                    0\n",
            "6    G  0.0732  0.3526  ...  1.7432                   1                    0\n",
            "7    H  0.2653  0.2683  ...  1.8350                   0                    1\n",
            "8    I  0.1070  0.0787  ...  1.2051                   0                    0\n",
            "9    J  0.2921  0.2390  ...  0.9277                   0                    1\n",
            "\n",
            "[10 rows x 8 columns]\n"
          ],
          "name": "stdout"
        }
      ]
    }
  ]
}